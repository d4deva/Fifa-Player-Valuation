{
 "cells": [
  {
   "cell_type": "code",
   "execution_count": 1,
   "metadata": {},
   "outputs": [
    {
     "name": "stdout",
     "output_type": "stream",
     "text": [
      " * Serving Flask app \"__main__\" (lazy loading)\n",
      " * Environment: production\n",
      "   WARNING: This is a development server. Do not use it in a production deployment.\n",
      "   Use a production WSGI server instead.\n",
      " * Debug mode: on\n"
     ]
    },
    {
     "name": "stderr",
     "output_type": "stream",
     "text": [
      " * Restarting with stat\n"
     ]
    },
    {
     "ename": "SystemExit",
     "evalue": "1",
     "output_type": "error",
     "traceback": [
      "An exception has occurred, use %tb to see the full traceback.\n",
      "\u001b[1;31mSystemExit\u001b[0m\u001b[1;31m:\u001b[0m 1\n"
     ]
    },
    {
     "name": "stderr",
     "output_type": "stream",
     "text": [
      "C:\\Users\\Debas\\Anaconda3\\lib\\site-packages\\IPython\\core\\interactiveshell.py:3334: UserWarning: To exit: use 'exit', 'quit', or Ctrl-D.\n",
      "  warn(\"To exit: use 'exit', 'quit', or Ctrl-D.\", stacklevel=1)\n"
     ]
    }
   ],
   "source": [
    "#!/usr/bin/env python\n",
    "# coding: utf-8\n",
    "\n",
    "# In[2]:\n",
    "\n",
    "\n",
    "# Importing essential libraries\n",
    "from flask import Flask, render_template, request\n",
    "import pickle\n",
    "import numpy as np\n",
    "\n",
    "# Load the Random Forest CLassifier model\n",
    "filename = 'FIFA_RFR_MODEL.pkl'\n",
    "model = pickle.load(open(filename, 'rb'))\n",
    "\n",
    "app = Flask(__name__)\n",
    "\n",
    "@app.route('/')\n",
    "def home():\n",
    "\treturn render_template('index.html')\n",
    "\n",
    "@app.route('/predict', methods=['POST'])\n",
    "def predict():\n",
    "    temp_array = list()\n",
    "    \n",
    "    if request.method == 'POST':\n",
    "        \n",
    "        \n",
    "            \n",
    "        Name = request.form['name']    \n",
    "        age = int(request.form['age'])\n",
    "        ball_skills = float(request.form['ball_skills'])\n",
    "        defence = float(request.form['defence'])\n",
    "        mental = float(request.form['mental'])\n",
    "        passing = float(request.form['passing'])\n",
    "        physical = float(request.form['physical'])\n",
    "        shooting = float(request.form['shooting'])\n",
    "        goalkeeping = float(request.form['goalkeeping'])\n",
    "    \n",
    "        \n",
    "        temp_array = temp_array + [age, ball_skills, defence, mental, passing,physical, shooting, goalkeeping]\n",
    "        \n",
    "        data = np.array([temp_array])\n",
    "        my_prediction = model.predict(data)[0]\n",
    "        my_prediction = int(np.exp(my_prediction))\n",
    "              \n",
    "        return render_template('result.html', amt=my_prediction,Name=Name)\n",
    "\n",
    "\n",
    "\n",
    "if __name__ == '__main__':\n",
    "\tapp.run(debug=True)"
   ]
  },
  {
   "cell_type": "code",
   "execution_count": null,
   "metadata": {},
   "outputs": [],
   "source": []
  }
 ],
 "metadata": {
  "kernelspec": {
   "display_name": "Python 3",
   "language": "python",
   "name": "python3"
  },
  "language_info": {
   "codemirror_mode": {
    "name": "ipython",
    "version": 3
   },
   "file_extension": ".py",
   "mimetype": "text/x-python",
   "name": "python",
   "nbconvert_exporter": "python",
   "pygments_lexer": "ipython3",
   "version": "3.7.4"
  }
 },
 "nbformat": 4,
 "nbformat_minor": 4
}
